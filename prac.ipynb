{
 "cells": [
  {
   "cell_type": "code",
   "execution_count": 15,
   "metadata": {},
   "outputs": [
    {
     "name": "stdout",
     "output_type": "stream",
     "text": [
      "{'contract': 'AARTIIND', 'current_pos_in_lots': 1.0, 'last_check_time': None, 'last_check_side': 1, 'order_status': None, 'last_order_time': None, 'last_order_id': None, 'last_trade_price': 449.65, 'last_trade_side': 'buy', 'last_trade_qty': 1000, 'last_trade_time': datetime.datetime(2023, 10, 27, 10, 0, 0, 400980), 'is_complete': False, 'min_price_since_trade': 449.15, 'max_price_since_trade': 456.35, 'time_elapsed_since_trade': 329.0, 'current_expiry': '20231130', 'is_buy': False, 'is_sell': False, 'lots_to_be_traded': 0}\n",
      "{'contract': 'ADANIENT', 'current_pos_in_lots': 1.0, 'last_check_time': None, 'last_check_side': 1, 'order_status': None, 'last_order_time': None, 'last_order_id': None, 'last_trade_price': 2270.1, 'last_trade_side': 'buy', 'last_trade_qty': 600, 'last_trade_time': datetime.datetime(2023, 10, 27, 11, 30, 0, 436780), 'is_complete': False, 'min_price_since_trade': 2249.6, 'max_price_since_trade': 2287.45, 'time_elapsed_since_trade': 239.0, 'current_expiry': '20231130', 'is_buy': False, 'is_sell': False, 'lots_to_be_traded': 0}\n",
      "{'contract': 'DIXON', 'current_pos_in_lots': -1.0, 'last_check_time': None, 'last_check_side': -1, 'order_status': None, 'last_order_time': None, 'last_order_id': None, 'last_trade_price': 5438.15, 'last_trade_side': 'sell', 'last_trade_qty': 100, 'last_trade_time': datetime.datetime(2023, 10, 27, 11, 45, 0, 892005), 'is_complete': False, 'min_price_since_trade': 5327.4, 'max_price_since_trade': 5440.15, 'time_elapsed_since_trade': 224.0, 'current_expiry': '20231130', 'is_buy': False, 'is_sell': False, 'lots_to_be_traded': 0}\n",
      "{'contract': 'HEROMOTOC', 'current_pos_in_lots': -1.0, 'last_check_time': None, 'last_check_side': -1, 'order_status': None, 'last_order_time': None, 'last_order_id': None, 'last_trade_price': 3139.05, 'last_trade_side': 'sell', 'last_trade_qty': 300, 'last_trade_time': datetime.datetime(2023, 10, 27, 12, 50, 0, 934662), 'is_complete': False, 'min_price_since_trade': 3124.35, 'max_price_since_trade': 3154.25, 'time_elapsed_since_trade': 159.0, 'current_expiry': '20231130', 'is_buy': False, 'is_sell': False, 'lots_to_be_traded': 0}\n",
      "{'contract': 'PFC', 'current_pos_in_lots': -1.0, 'last_check_time': None, 'last_check_side': 0, 'order_status': None, 'last_order_time': None, 'last_order_id': None, 'last_trade_price': 236.6, 'last_trade_side': 'sell', 'last_trade_qty': 3875, 'last_trade_time': datetime.datetime(2023, 10, 27, 12, 30, 1, 215412), 'is_complete': False, 'min_price_since_trade': 236.05, 'max_price_since_trade': 238.75, 'time_elapsed_since_trade': 179.0, 'current_expiry': '20231130', 'is_buy': False, 'is_sell': False, 'lots_to_be_traded': 0}\n",
      "{'contract': 'POLYCAB', 'current_pos_in_lots': 0, 'last_check_time': None, 'last_check_side': -1, 'order_status': None, 'last_order_time': None, 'last_order_id': None, 'last_trade_price': nan, 'last_trade_side': None, 'last_trade_qty': None, 'last_trade_time': None, 'is_complete': False, 'min_price_since_trade': None, 'max_price_since_trade': None, 'time_elapsed_since_trade': 0, 'current_expiry': '20231130', 'is_buy': False, 'is_sell': False, 'lots_to_be_traded': 0}\n",
      "{'contract': 'RECLTD', 'current_pos_in_lots': 1.0, 'last_check_time': None, 'last_check_side': 1, 'order_status': None, 'last_order_time': None, 'last_order_id': None, 'last_trade_price': 272.2, 'last_trade_side': 'buy', 'last_trade_qty': 2000, 'last_trade_time': datetime.datetime(2023, 10, 27, 10, 30, 1, 217742), 'is_complete': False, 'min_price_since_trade': 270.25, 'max_price_since_trade': 276.65, 'time_elapsed_since_trade': 299.0, 'current_expiry': '20231130', 'is_buy': False, 'is_sell': False, 'lots_to_be_traded': 0}\n",
      "{'contract': 'RELIANCE', 'current_pos_in_lots': -1.0, 'last_check_time': None, 'last_check_side': -1, 'order_status': None, 'last_order_time': None, 'last_order_id': None, 'last_trade_price': 2370.55, 'last_trade_side': 'sell', 'last_trade_qty': 250, 'last_trade_time': datetime.datetime(2023, 10, 18, 11, 15, 3, 70014), 'is_complete': False, 'min_price_since_trade': 2230.4, 'max_price_since_trade': 2357.65, 'time_elapsed_since_trade': 2504.0, 'current_expiry': '20231130', 'is_buy': False, 'is_sell': False, 'lots_to_be_traded': 0}\n",
      "{'contract': 'SBIN', 'current_pos_in_lots': 1.0, 'last_check_time': None, 'last_check_side': 1, 'order_status': None, 'last_order_time': None, 'last_order_id': None, 'last_trade_price': 557.9, 'last_trade_side': 'buy', 'last_trade_qty': 1500, 'last_trade_time': datetime.datetime(2023, 10, 27, 10, 15, 0, 890355), 'is_complete': False, 'min_price_since_trade': 557.4, 'max_price_since_trade': 565.65, 'time_elapsed_since_trade': 314.0, 'current_expiry': '20231130', 'is_buy': False, 'is_sell': False, 'lots_to_be_traded': 0}\n",
      "{'contract': 'VOLTAS', 'current_pos_in_lots': 1.0, 'last_check_time': None, 'last_check_side': 1, 'order_status': None, 'last_order_time': None, 'last_order_id': None, 'last_trade_price': 835.0, 'last_trade_side': 'buy', 'last_trade_qty': 600, 'last_trade_time': datetime.datetime(2023, 10, 27, 12, 45, 0, 512176), 'is_complete': False, 'min_price_since_trade': 832.3, 'max_price_since_trade': 838.0, 'time_elapsed_since_trade': 164.0, 'current_expiry': '20231130', 'is_buy': False, 'is_sell': False, 'lots_to_be_traded': 0}\n",
      "{'contract': 'TITAN', 'current_pos_in_lots': -1.0, 'last_check_time': None, 'last_check_side': -1, 'order_status': None, 'last_order_time': None, 'last_order_id': None, 'last_trade_price': 3298.0, 'last_trade_side': 'sell', 'last_trade_qty': 375, 'last_trade_time': datetime.datetime(2023, 10, 20, 9, 45, 2, 973121), 'is_complete': False, 'min_price_since_trade': 3110.15, 'max_price_since_trade': 3289.4, 'time_elapsed_since_trade': 1844.0, 'current_expiry': '20231130', 'is_buy': False, 'is_sell': False, 'lots_to_be_traded': 0}\n",
      "{'contract': 'BAJFINANC', 'current_pos_in_lots': -1.0, 'last_check_time': None, 'last_check_side': -1, 'order_status': None, 'last_order_time': None, 'last_order_id': None, 'last_trade_price': 8042.25, 'last_trade_side': 'sell', 'last_trade_qty': 125, 'last_trade_time': datetime.datetime(2023, 10, 18, 9, 45, 2, 111488), 'is_complete': False, 'min_price_since_trade': 7438.45, 'max_price_since_trade': 8013.85, 'time_elapsed_since_trade': 2594.0, 'current_expiry': '20231130', 'is_buy': False, 'is_sell': False, 'lots_to_be_traded': 0}\n",
      "{'contract': 'BHEL', 'current_pos_in_lots': -1.0, 'last_check_time': None, 'last_check_side': 0, 'order_status': None, 'last_order_time': None, 'last_order_id': None, 'last_trade_price': 117.75, 'last_trade_side': 'sell', 'last_trade_qty': 5250, 'last_trade_time': datetime.datetime(2023, 10, 27, 13, 0, 1, 162800), 'is_complete': False, 'min_price_since_trade': 117.9, 'max_price_since_trade': 119.1, 'time_elapsed_since_trade': 149.0, 'current_expiry': '20231130', 'is_buy': False, 'is_sell': False, 'lots_to_be_traded': 0}\n",
      "{'contract': 'LTFH', 'current_pos_in_lots': 1.0, 'last_check_time': None, 'last_check_side': 1, 'order_status': None, 'last_order_time': None, 'last_order_id': None, 'last_trade_price': 136.1, 'last_trade_side': 'buy', 'last_trade_qty': 4462, 'last_trade_time': datetime.datetime(2023, 10, 27, 10, 0, 1, 639408), 'is_complete': False, 'min_price_since_trade': 135.25, 'max_price_since_trade': 138.2, 'time_elapsed_since_trade': 329.0, 'current_expiry': '20231130', 'is_buy': False, 'is_sell': False, 'lots_to_be_traded': 0}\n",
      "{'contract': 'AUROPHARM', 'current_pos_in_lots': -1.0, 'last_check_time': None, 'last_check_side': -1, 'order_status': None, 'last_order_time': None, 'last_order_id': None, 'last_trade_price': 914.2, 'last_trade_side': 'sell', 'last_trade_qty': 1100, 'last_trade_time': datetime.datetime(2023, 10, 18, 9, 45, 3, 277779), 'is_complete': False, 'min_price_since_trade': 851.5, 'max_price_since_trade': 910.0, 'time_elapsed_since_trade': 2594.0, 'current_expiry': '20231130', 'is_buy': False, 'is_sell': False, 'lots_to_be_traded': 0}\n",
      "{'contract': 'PVRINOX', 'current_pos_in_lots': -1.0, 'last_check_time': None, 'last_check_side': -1, 'order_status': None, 'last_order_time': None, 'last_order_id': None, 'last_trade_price': 1753.9, 'last_trade_side': 'sell', 'last_trade_qty': 407, 'last_trade_time': datetime.datetime(2023, 10, 19, 15, 29, 0, 504422), 'is_complete': False, 'min_price_since_trade': 1575.1, 'max_price_since_trade': 1745.0, 'time_elapsed_since_trade': 1875.0, 'current_expiry': '20231130', 'is_buy': False, 'is_sell': False, 'lots_to_be_traded': 0}\n",
      "{'contract': 'GLENMARK', 'current_pos_in_lots': -1.0, 'last_check_time': None, 'last_check_side': -1, 'order_status': None, 'last_order_time': None, 'last_order_id': None, 'last_trade_price': 750.05, 'last_trade_side': 'sell', 'last_trade_qty': 725, 'last_trade_time': datetime.datetime(2023, 10, 27, 13, 0, 2, 341500), 'is_complete': False, 'min_price_since_trade': 747.25, 'max_price_since_trade': 755.25, 'time_elapsed_since_trade': 149.0, 'current_expiry': '20231130', 'is_buy': False, 'is_sell': False, 'lots_to_be_traded': 0}\n",
      "{'contract': 'SRF', 'current_pos_in_lots': 0, 'last_check_time': None, 'last_check_side': -1, 'order_status': None, 'last_order_time': None, 'last_order_id': None, 'last_trade_price': nan, 'last_trade_side': None, 'last_trade_qty': None, 'last_trade_time': None, 'is_complete': False, 'min_price_since_trade': None, 'max_price_since_trade': None, 'time_elapsed_since_trade': 0, 'current_expiry': '20231130', 'is_buy': False, 'is_sell': False, 'lots_to_be_traded': 0}\n",
      "{'contract': 'HDFCBANK', 'current_pos_in_lots': -1.0, 'last_check_time': None, 'last_check_side': 0, 'order_status': None, 'last_order_time': None, 'last_order_id': None, 'last_trade_price': 1481.35, 'last_trade_side': 'sell', 'last_trade_qty': 550, 'last_trade_time': datetime.datetime(2023, 10, 27, 10, 30, 2, 464424), 'is_complete': False, 'min_price_since_trade': 1476.25, 'max_price_since_trade': 1485.0, 'time_elapsed_since_trade': 299.0, 'current_expiry': '20231130', 'is_buy': False, 'is_sell': False, 'lots_to_be_traded': 0}\n"
     ]
    }
   ],
   "source": [
    "import os\n",
    "import pickle\n",
    "\n",
    "file = 'strategy_1.in.trade_data'\n",
    "if not os.path.exists(file):\n",
    "    print('hey')\n",
    "with open(file, 'rb') as f:\n",
    "    trade_data = pickle.load(f)\n",
    "for stk in trade_data:   \n",
    "    print(stk.__dict__)"
   ]
  },
  {
   "cell_type": "code",
   "execution_count": 2,
   "metadata": {},
   "outputs": [
    {
     "name": "stdout",
     "output_type": "stream",
     "text": [
      "{'contract': 2383040621408: 638231383,PEL,OPT,20230831,1060.0,C,1,NSE,,INR,PEL23AUG1060CE,PEL,False,,combo:, 'current_pos_in_lots': 1.0, 'is_complete': False}\n",
      "{'contract': 2383040621552: 633627927,ULTRACEMC,OPT,20230831,8250.0,C,1,NSE,,INR,ULTRACEMCO23AUG8250CE,ULTRACEMCO,False,,combo:, 'current_pos_in_lots': 1.0, 'is_complete': False}\n",
      "{'contract': 2383040621696: 633665855,ESCORTS,OPT,20230831,2720.0,C,1,NSE,,INR,ESCORTS23AUG2720CE,ESCORTS,False,,combo:, 'current_pos_in_lots': 1.0, 'is_complete': False}\n",
      "{'contract': 2383040621840: 638551162,LUPIN,OPT,20230831,1110.0,C,1,NSE,,INR,LUPIN23AUG1110CE,LUPIN,False,,combo:, 'current_pos_in_lots': 1.0, 'is_complete': False}\n",
      "{'PEL': <nts_trade.NTSTrade object at 0x0000022AD84A24D0>, 'ULTRACEMC': <nts_trade.NTSTrade object at 0x0000022AD84A2BC0>, 'ESCORTS': <nts_trade.NTSTrade object at 0x0000022AD84A2C50>, 'LUPIN': <nts_trade.NTSTrade object at 0x0000022AD84A2CE0>}\n"
     ]
    }
   ],
   "source": [
    "import os\n",
    "import pickle\n",
    "\n",
    "def write_trade_data():\n",
    "    file = 'strategy.trade_data'\n",
    "    with open(file, 'wb') as f:\n",
    "        pickle.dump(trade_dataaa, f)\n",
    "\n",
    "trade_dataaa = {}\n",
    "\n",
    "file = 'strategy.trade_data'\n",
    "if not os.path.exists(file):\n",
    "    print('hey')\n",
    "with open(file, 'rb') as f:\n",
    "    trade_data = pickle.load(f)\n",
    "    # print(trade_data)\n",
    "for stk in ['PEL','ULTRACEMC','ESCORTS','LUPIN']:   \n",
    "    print(trade_data[stk].__dict__)\n",
    "    trade_dataaa[stk] = trade_data[stk]\n",
    "print(trade_dataaa)\n",
    "\n",
    "write_trade_data()"
   ]
  },
  {
   "cell_type": "code",
   "execution_count": 7,
   "metadata": {},
   "outputs": [
    {
     "name": "stdout",
     "output_type": "stream",
     "text": [
      "1692790734.5114233\n"
     ]
    }
   ],
   "source": [
    "import time\n",
    "start_time = time.time()\n",
    "print(start_time)\n",
    "if start_time in [10, 20]:\n",
    "    print('hey')"
   ]
  },
  {
   "cell_type": "code",
   "execution_count": 3,
   "metadata": {},
   "outputs": [
    {
     "name": "stdout",
     "output_type": "stream",
     "text": [
      "01:04\r"
     ]
    },
    {
     "ename": "KeyboardInterrupt",
     "evalue": "",
     "output_type": "error",
     "traceback": [
      "\u001b[1;31m---------------------------------------------------------------------------\u001b[0m",
      "\u001b[1;31mKeyboardInterrupt\u001b[0m                         Traceback (most recent call last)",
      "\u001b[1;32mc:\\Users\\mahen\\Desktop\\GITHUB\\Swift Strategy Prac\\prac.ipynb Cell 4\u001b[0m in \u001b[0;36m<cell line: 20>\u001b[1;34m()\u001b[0m\n\u001b[0;32m     <a href='vscode-notebook-cell:/c%3A/Users/mahen/Desktop/GITHUB/Swift%20Strategy%20Prac/prac.ipynb#W3sZmlsZQ%3D%3D?line=16'>17</a>\u001b[0m t \u001b[39m=\u001b[39m \u001b[39m70\u001b[39m\n\u001b[0;32m     <a href='vscode-notebook-cell:/c%3A/Users/mahen/Desktop/GITHUB/Swift%20Strategy%20Prac/prac.ipynb#W3sZmlsZQ%3D%3D?line=18'>19</a>\u001b[0m \u001b[39m# function call\u001b[39;00m\n\u001b[1;32m---> <a href='vscode-notebook-cell:/c%3A/Users/mahen/Desktop/GITHUB/Swift%20Strategy%20Prac/prac.ipynb#W3sZmlsZQ%3D%3D?line=19'>20</a>\u001b[0m countdown(\u001b[39mint\u001b[39;49m(t))\n",
      "\u001b[1;32mc:\\Users\\mahen\\Desktop\\GITHUB\\Swift Strategy Prac\\prac.ipynb Cell 4\u001b[0m in \u001b[0;36mcountdown\u001b[1;34m(t)\u001b[0m\n\u001b[0;32m      <a href='vscode-notebook-cell:/c%3A/Users/mahen/Desktop/GITHUB/Swift%20Strategy%20Prac/prac.ipynb#W3sZmlsZQ%3D%3D?line=7'>8</a>\u001b[0m     timer \u001b[39m=\u001b[39m \u001b[39m'\u001b[39m\u001b[39m{:02d}\u001b[39;00m\u001b[39m:\u001b[39m\u001b[39m{:02d}\u001b[39;00m\u001b[39m'\u001b[39m\u001b[39m.\u001b[39mformat(mins, secs)\n\u001b[0;32m      <a href='vscode-notebook-cell:/c%3A/Users/mahen/Desktop/GITHUB/Swift%20Strategy%20Prac/prac.ipynb#W3sZmlsZQ%3D%3D?line=8'>9</a>\u001b[0m     \u001b[39mprint\u001b[39m(timer, end\u001b[39m=\u001b[39m\u001b[39m\"\u001b[39m\u001b[39m\\r\u001b[39;00m\u001b[39m\"\u001b[39m)\n\u001b[1;32m---> <a href='vscode-notebook-cell:/c%3A/Users/mahen/Desktop/GITHUB/Swift%20Strategy%20Prac/prac.ipynb#W3sZmlsZQ%3D%3D?line=9'>10</a>\u001b[0m     time\u001b[39m.\u001b[39;49msleep(\u001b[39m1\u001b[39;49m)\n\u001b[0;32m     <a href='vscode-notebook-cell:/c%3A/Users/mahen/Desktop/GITHUB/Swift%20Strategy%20Prac/prac.ipynb#W3sZmlsZQ%3D%3D?line=10'>11</a>\u001b[0m     t \u001b[39m-\u001b[39m\u001b[39m=\u001b[39m \u001b[39m1\u001b[39m\n\u001b[0;32m     <a href='vscode-notebook-cell:/c%3A/Users/mahen/Desktop/GITHUB/Swift%20Strategy%20Prac/prac.ipynb#W3sZmlsZQ%3D%3D?line=12'>13</a>\u001b[0m \u001b[39mprint\u001b[39m(\u001b[39m'\u001b[39m\u001b[39mFire in the hole!!\u001b[39m\u001b[39m'\u001b[39m)\n",
      "\u001b[1;31mKeyboardInterrupt\u001b[0m: "
     ]
    }
   ],
   "source": [
    "\n",
    "# import the time module\n",
    "import time\n",
    "  \n",
    "# define the countdown func.\n",
    "def countdown(t):   \n",
    "    while t:\n",
    "        mins, secs = divmod(t, 60)\n",
    "        timer = '{:02d}:{:02d}'.format(mins, secs)\n",
    "        print(timer, end=\"\\r\")\n",
    "        time.sleep(1)\n",
    "        t -= 1\n",
    "      \n",
    "    print('Fire in the hole!!')\n",
    "  \n",
    "  \n",
    "# input time in seconds\n",
    "t = 70\n",
    "  \n",
    "# function call\n",
    "countdown(int(t))"
   ]
  }
 ],
 "metadata": {
  "kernelspec": {
   "display_name": "Python 3",
   "language": "python",
   "name": "python3"
  },
  "language_info": {
   "codemirror_mode": {
    "name": "ipython",
    "version": 3
   },
   "file_extension": ".py",
   "mimetype": "text/x-python",
   "name": "python",
   "nbconvert_exporter": "python",
   "pygments_lexer": "ipython3",
   "version": "3.9.13"
  },
  "orig_nbformat": 4
 },
 "nbformat": 4,
 "nbformat_minor": 2
}
